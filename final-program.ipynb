{
 "cells": [
  {
   "cell_type": "code",
   "execution_count": 1,
   "id": "e77e7dd0-9cac-45cf-9c3b-b35f28ce6371",
   "metadata": {},
   "outputs": [
    {
     "name": "stderr",
     "output_type": "stream",
     "text": [
      "<frozen importlib._bootstrap>:219: RuntimeWarning: scipy._lib.messagestream.MessageStream size changed, may indicate binary incompatibility. Expected 56 from C header, got 64 from PyObject\n"
     ]
    }
   ],
   "source": [
    "#Importing libraries\n",
    "import numpy as np\n",
    "import pandas as pd\n",
    "from math import pi\n",
    "import matplotlib.pyplot as plt\n",
    "\n",
    "# Importing standard Qiskit libraries\n",
    "from qiskit import QuantumCircuit, QuantumRegister, ClassicalRegister\n",
    "from qiskit import BasicAer, Aer, IBMQ\n",
    "from qiskit.compiler import transpile\n",
    "from qiskit.visualization import plot_histogram\n",
    "from qiskit.providers.aer import QasmSimulator\n",
    "from qiskit.extensions import UnitaryGate\n",
    "from qiskit.tools.jupyter import *\n",
    "from ibm_quantum_widgets import *\n",
    "\n",
    "# Loading your IBM Quantum account(s)\n",
    "# provider = IBMQ.load_account()"
   ]
  },
  {
   "cell_type": "markdown",
   "id": "1672ff35-9a0c-45c1-8e3a-9d94d7bbc274",
   "metadata": {},
   "source": [
    "# Initial Values and Parameters"
   ]
  },
  {
   "cell_type": "code",
   "execution_count": 2,
   "id": "cadcf159-6c95-4f6d-ace8-b9638283f03d",
   "metadata": {},
   "outputs": [
    {
     "data": {
      "image/png": "[encoded data removed]",
      "text/plain": [
       "<Figure size 432x288 with 1 Axes>"
      ]
     },
     "metadata": {
      "needs_background": "light"
     },
     "output_type": "display_data"
    }
   ],
   "source": [
    "#DEFINE INITIAL WAVEFUNCTION\n",
    "\n",
    "L = 0.5 #width of square well\n",
    "n = 6 #number of qubits\n",
    "x = np.linspace(-L, L, num=2**n) #number of x points\n",
    "\n",
    "wvfunc = np.exp(-25*x**2) #Initial wavefunciton\n",
    "Normalisation_Constant = np.sqrt(np.sum(wvfunc**2)) \n",
    "normalized_wvfunc = wvfunc / Normalisation_Constant ##Normalized initial wavefunction\n",
    "\n",
    "plt.plot(x, normalized_wvfunc)\n",
    "plt.show()"
   ]
  },
  {
   "cell_type": "code",
   "execution_count": 3,
   "id": "e6d8c795-7698-4edd-9088-c0490ed0b567",
   "metadata": {},
   "outputs": [],
   "source": [
    "#DEFINE PARAMETERS\n",
    "\n",
    "qubit_num = n #number of qubits\n",
    "qubit_tot = 2**qubit_num #number of possible states\n",
    "dt = 0.001 #timestep\n",
    "v = 100 #potential within the system (v1, v0=0)\n",
    "iteration = 50 #number of iteration\n",
    "t = iteration*dt #time evolution\n",
    "ALPHA = -(2*np.pi*qubit_tot)**2 * dt"
   ]
  },
  {
   "cell_type": "markdown",
   "id": "ae28c2d7-e123-4ea9-b472-10a78412a2cd",
   "metadata": {},
   "source": [
    "# QFT and Inverse QFT"
   ]
  },
  {
   "cell_type": "code",
   "execution_count": 4,
   "id": "4382464e-e474-4413-bfe7-d9a57f7965e4",
   "metadata": {},
   "outputs": [],
   "source": [
    "def rotate_qft(circuit, register, n):\n",
    "    \"\"\"\n",
    "    Performs QFT on the first n qubits in circuit\n",
    "    Args:\n",
    "        circuit, register, number of qubits\n",
    "    Returns:\n",
    "        Perform QFT on circuit\n",
    "    \"\"\"\n",
    "\n",
    "    if n == 0:\n",
    "        return circuit\n",
    "    \n",
    "    n = n - 1\n",
    "    circuit.h(register[n])\n",
    "    for qubit in range(n):\n",
    "        circuit.cp(pi/2**(n-qubit), register[qubit], register[n])\n",
    "        \n",
    "    rotate_qft(circuit, register, n)\n",
    "    \n",
    "def swap_registers(circuit, register, n):\n",
    "    \"\"\"\n",
    "    Swaps qubits to match QFT definition\n",
    "    Args:\n",
    "        circuit, register, number of qubits\n",
    "    Returns:\n",
    "        Swaps two qubits\n",
    "    \"\"\"\n",
    "    \n",
    "    for qubit in range(n//2):\n",
    "        circuit.swap(register[qubit], register[n-qubit-1])\n",
    "        \n",
    "    return circuit\n",
    "\n",
    "def qft(circuit, register, n):\n",
    "    \"\"\"\n",
    "    Performs QFT in circuit\n",
    "    Args:\n",
    "        circuit, register, number of qubits\n",
    "    Returns:\n",
    "        Perform QFT (rotations and swaps) on circuit\n",
    "    \"\"\"    \n",
    "    \n",
    "    rotate_qft(circuit, register, n)\n",
    "    swap_registers(circuit, register, n)\n",
    "    \n",
    "    return circuit\n",
    "\n",
    "def inverse_qft(circuit, register, n):\n",
    "    \"\"\"\n",
    "    Performs inverse of QFT in circuit\n",
    "    Args:\n",
    "        circuit, register, number of qubits\n",
    "    Returns:\n",
    "        Perform inverse of QFT on circuit\n",
    "    \"\"\"\n",
    "    \n",
    "    reg = QuantumRegister(n)\n",
    "    qc = QuantumCircuit(reg)\n",
    "    qft_circuit = qft(qc, reg, n)\n",
    "    invqft = qft_circuit.inverse()\n",
    "    circuit = circuit.compose(invqft, register)\n",
    "    \n",
    "    return circuit"
   ]
  },
  {
   "cell_type": "markdown",
   "id": "03ad4b5a-0d7e-4ed2-8c5f-14446cc37040",
   "metadata": {},
   "source": [
    "# Time Evolution Operator"
   ]
  },
  {
   "cell_type": "code",
   "execution_count": 5,
   "id": "2ca1abcc-6217-4e1b-b400-dd0967fddb90",
   "metadata": {},
   "outputs": [],
   "source": [
    "def potential(circuit, register, n):\n",
    "    \"\"\"\n",
    "    Define potential operator within the systems\n",
    "    Args:\n",
    "        circuit, register, number of qubits\n",
    "    Returns:\n",
    "        Add potential to the circuit\n",
    "    \"\"\"\n",
    "    pot = -dt*v\n",
    "    \n",
    "    i = 0 + 1j\n",
    "    potential_matrix = np.array([[np.exp(i*pot), 0], [0, np.exp(i*pot)]])\n",
    "    potential_gate = UnitaryGate(potential_matrix)\n",
    "\n",
    "    #Create Potential unitary gate\n",
    "    qcc = QuantumCircuit(1)\n",
    "    qcc.append(potential_gate, [0])\n",
    "    potgate = qcc.to_gate(label='Potential').control(1)\n",
    "\n",
    "    circuit.x(register[n-2])\n",
    "    circuit.cx(register[n-2], register[n-1])\n",
    "    circuit.x(register[n-2])\n",
    "\n",
    "    circuit.x(register[n-1])\n",
    "    circuit.append(potgate, [register[n-1], register[n-2]])\n",
    "\n",
    "    circuit.x(register[n-1])\n",
    "\n",
    "    circuit.x(register[n-2])\n",
    "    circuit.cx(register[n-2], register[n-1])\n",
    "    circuit.x(register[n-2])\n",
    "    \n",
    "    return circuit"
   ]
  },
  {
   "cell_type": "code",
   "execution_count": 6,
   "id": "333857cf-51d3-48a8-bd3b-0ca5cb413eee",
   "metadata": {},
   "outputs": [],
   "source": [
    "def constant_phase(circuit, register):\n",
    "    \"\"\"\n",
    "    Add constant phase to the circuit\n",
    "    Args:\n",
    "        circuit, register, number of qubits\n",
    "    \"\"\"\n",
    "    i = 0 + 1j\n",
    "    constant_phase = np.array([[np.exp(i*ALPHA/4), 0], [0, np.exp(i*ALPHA/4)]])\n",
    "    cp_gate = UnitaryGate(constant_phase, 'Constant')\n",
    "    circuit.append(cp_gate, [register[0]])\n",
    "    circuit.barrier()\n",
    "    \n",
    "    return circuit\n",
    "\n",
    "def rotate1(circuit, register, n):\n",
    "    \"\"\"\n",
    "    Add shift phase gate to the circuit\n",
    "    Args:\n",
    "        circuit, register, number of qubits\n",
    "    \"\"\"\n",
    "    \n",
    "    for m in range(n):\n",
    "        theta = -ALPHA * 2**(m-n)\n",
    "        circuit.p(theta, register[m])\n",
    "        \n",
    "    return circuit\n",
    "\n",
    "\n",
    "def rotate2(circuit, register, n):\n",
    "    \"\"\"\n",
    "    Add constant phase to the circuit\n",
    "    Args:\n",
    "        circuit, register, number of qubits\n",
    "    \"\"\"\n",
    "    \n",
    "    for m in range(n):\n",
    "        theta = ALPHA * 2**(2*(m-n))\n",
    "        circuit.p(theta, register[m])\n",
    "        \n",
    "    return circuit\n",
    "\n",
    "def kinetic(circuit, register, qubit):\n",
    "    \"\"\"\n",
    "    Define energy kinetic operator\n",
    "    Args:\n",
    "        circuit, register, number of qubits\n",
    "    Returns:\n",
    "        Add energy kinetics to the system\n",
    "    \"\"\"\n",
    "    \n",
    "    constant_phase(circuit, register)\n",
    "    rotate1(circuit, register, qubit)\n",
    "    rotate2(circuit, register, qubit)\n",
    "    \n",
    "    n = np.arange(qubit-1, -1, -1, dtype=float)\n",
    "    \n",
    "    for i in n:\n",
    "        for j in np.arange(i-1, -1, -1, dtype=float):\n",
    "            kin = 2*ALPHA*2**(j + i - 2*(len(n)))\n",
    "            circuit.cp(kin, register[int(j)], register[int(i)])\n",
    "            \n",
    "    return circuit"
   ]
  },
  {
   "cell_type": "markdown",
   "id": "1ef72c85-fa89-402a-8c33-0994b47f2619",
   "metadata": {},
   "source": [
    "# Probability Density Simulation"
   ]
  },
  {
   "cell_type": "code",
   "execution_count": 7,
   "id": "69afdf63-b75a-44c6-aa0d-47d4ead5d6d2",
   "metadata": {},
   "outputs": [
    {
     "data": {
      "text/plain": [
       "<qiskit.circuit.instructionset.InstructionSet at 0x7f3140c9bac0>"
      ]
     },
     "execution_count": 7,
     "metadata": {},
     "output_type": "execute_result"
    }
   ],
   "source": [
    "#Create n qubits quantum registers and quantum circuit\n",
    "\n",
    "work_reg = QuantumRegister(qubit_num, 'qw') #Work register\n",
    "sim_reg = QuantumRegister(qubit_num, 'qs') #Simulation register\n",
    "clas_reg = ClassicalRegister(qubit_num, 'c') #Classical register (for measurement)\n",
    "circuit = QuantumCircuit(work_reg, sim_reg, clas_reg) #Quantum circuit\n",
    "\n",
    "#Apply Hadamard gate on work register\n",
    "circuit.h(work_reg)\n",
    "\n",
    "#INITIALIZATION\n",
    "circuit.initialize(normalized_wvfunc, sim_reg)\n",
    "circuit.barrier()\n",
    "\n",
    "#Perform time evolution operator\n",
    "for i in range(iteration):\n",
    "    #POTENTIAL\n",
    "    potential(circuit, sim_reg, qubit_num)\n",
    "    circuit.barrier()\n",
    "\n",
    "    #QFT\n",
    "    qft(circuit, sim_reg, qubit_num)\n",
    "    circuit.barrier()\n",
    "\n",
    "    #KINETIC\n",
    "    kinetic(circuit, sim_reg, qubit_num)\n",
    "    circuit.barrier()\n",
    "\n",
    "    #INVERS QFT\n",
    "    circuit = inverse_qft(circuit, sim_reg, qubit_num)\n",
    "    circuit.barrier()\n",
    "\n",
    "\n",
    "    #POTENTIAL\n",
    "    potential(circuit, sim_reg, qubit_num)\n",
    "    circuit.barrier()\n",
    "\n",
    "    #QFT\n",
    "    qft(circuit, sim_reg, qubit_num)\n",
    "    circuit.barrier()\n",
    "\n",
    "    #KINETIC\n",
    "    kinetic(circuit, sim_reg, qubit_num)\n",
    "    circuit.barrier()\n",
    "\n",
    "    #INVERS QFT\n",
    "    circuit = inverse_qft(circuit, sim_reg, qubit_num)\n",
    "    circuit.barrier()\n",
    "\n",
    "\n",
    "#Perform Quantum Phase Estimation Algorithm - to estimate phase (eigen energy)\n",
    "guessed_energy = 0.1\n",
    "angle = (guessed_energy) / 2*np.pi\n",
    "for work_qubit in range(0, qubit_num):\n",
    "    repetitions = 2**work_qubit\n",
    "    for sim_qubit in range(0, qubit_num):\n",
    "        for i in range(repetitions):\n",
    "            circuit.cp(angle, work_reg[work_qubit], sim_reg[sim_qubit])\n",
    "\n",
    "circuit.barrier()\n",
    "\n",
    "#Invers QFT on work register\n",
    "circuit = inverse_qft(circuit, work_reg, qubit_num)\n",
    "circuit.barrier()\n",
    "\n",
    "#Measurement - Comment and uncomment for measuring simulation and work register\n",
    "circuit.measure(sim_reg, clas_reg) #Measure simulation register - probability density\n",
    "# circuit.measure(work_reg, clas_reg) #Measure working register - estimate phase to count energy\n",
    "\n",
    "#Uncomment to draw quantum circuit\n",
    "#More iteration -> more complex circuit -> more time it takes to load\n",
    "# circuit.draw()\n",
    "\n",
    "#Uncomment to save quantum circuit\n",
    "# circuit.draw().savefig('quantum-circuit', dpi=500)"
   ]
  },
  {
   "cell_type": "markdown",
   "id": "cdb03cc4-d678-4dc4-b6a0-d52623c31305",
   "metadata": {},
   "source": [
    "# Energy Simulation"
   ]
  },
  {
   "cell_type": "code",
   "execution_count": 8,
   "id": "045f83bc-a01a-42d3-87dd-7455b4cfc8a2",
   "metadata": {},
   "outputs": [
    {
     "data": {
      "text/plain": [
       "<qiskit.circuit.instructionset.InstructionSet at 0x7f31413f1900>"
      ]
     },
     "execution_count": 8,
     "metadata": {},
     "output_type": "execute_result"
    }
   ],
   "source": [
    "#Create n qubits quantum registers and quantum circuit\n",
    "\n",
    "work_reg = QuantumRegister(qubit_num, 'qw') #Work register\n",
    "sim_reg = QuantumRegister(qubit_num, 'qs') #Simulation register\n",
    "clas_reg = ClassicalRegister(qubit_num, 'c') #Classical register (for measurement)\n",
    "circuit2 = QuantumCircuit(work_reg, sim_reg, clas_reg) #Quantum circuit\n",
    "\n",
    "#Apply Hadamard gate on work register\n",
    "circuit2.h(work_reg)\n",
    "\n",
    "#INITIALIZATION\n",
    "circuit2.initialize(normalized_wvfunc, sim_reg)\n",
    "circuit2.barrier()\n",
    "\n",
    "#Perform time evolution operator\n",
    "for i in range(iteration):\n",
    "    #POTENTIAL\n",
    "    potential(circuit2, sim_reg, qubit_num)\n",
    "    circuit2.barrier()\n",
    "\n",
    "    #QFT\n",
    "    qft(circuit2, sim_reg, qubit_num)\n",
    "    circuit2.barrier()\n",
    "\n",
    "    #KINETIC\n",
    "    kinetic(circuit2, sim_reg, qubit_num)\n",
    "    circuit2.barrier()\n",
    "\n",
    "    #INVERS QFT\n",
    "    circuit2 = inverse_qft(circuit2, sim_reg, qubit_num)\n",
    "    circuit2.barrier()\n",
    "\n",
    "\n",
    "    #POTENTIAL\n",
    "    potential(circuit2, sim_reg, qubit_num)\n",
    "    circuit2.barrier()\n",
    "\n",
    "    # QFT\n",
    "    qft(circuit2, sim_reg, qubit_num)\n",
    "    circuit2.barrier()\n",
    "\n",
    "    #KINETIC\n",
    "    kinetic(circuit2, sim_reg, qubit_num)\n",
    "    circuit2.barrier()\n",
    "\n",
    "    #INVERS QFT\n",
    "    circuit2 = inverse_qft(circuit2, sim_reg, qubit_num)\n",
    "    circuit2.barrier()\n",
    "\n",
    "\n",
    "#Perform Quantum Phase Estimation Algorithm - to estimate phase (eigen energy)\n",
    "guessed_energy = 0.1\n",
    "angle = (guessed_energy) / 2*np.pi\n",
    "for work_qubit in range(0, qubit_num):\n",
    "    repetitions = 2**work_qubit\n",
    "    for sim_qubit in range(0, qubit_num):\n",
    "        for i in range(repetitions):\n",
    "            circuit2.cp(angle, work_reg[work_qubit], sim_reg[sim_qubit])\n",
    "\n",
    "circuit2.barrier()\n",
    "\n",
    "#Invers QFT on work register\n",
    "circuit2 = inverse_qft(circuit2, work_reg, qubit_num)\n",
    "circuit2.barrier()\n",
    "\n",
    "#Measurement - Comment and uncomment for measuring simulation and work register\n",
    "# circuit2.measure(sim_reg, clas_reg) #Measure simulation register - probability density\n",
    "circuit2.measure(work_reg, clas_reg) #Measure working register - estimate phase to count energy\n",
    "\n",
    "#Uncomment to draw quantum circuit\n",
    "#More iteration -> more complex circuit -> more time it takes to load\n",
    "# circuit2.draw()\n",
    "\n",
    "#Uncomment to save quantum circuit\n",
    "# circuit2.draw().savefig('quantum-circuit', dpi=500)"
   ]
  },
  {
   "cell_type": "markdown",
   "id": "2257b100-00bb-4521-bd38-26e1619fa6ac",
   "metadata": {},
   "source": [
    "# Simulation"
   ]
  },
  {
   "cell_type": "code",
   "execution_count": 9,
   "id": "ad7ba2f3-89f6-441a-95ba-a92386d4c43a",
   "metadata": {},
   "outputs": [
    {
     "name": "stdout",
     "output_type": "stream",
     "text": [
      "Measurement is done...\n",
      "Elapsed time:  35.22600340843201\n"
     ]
    }
   ],
   "source": [
    "import time\n",
    "\n",
    "start = time.time()\n",
    "#Define backends\n",
    "backend = BasicAer.get_backend('qasm_simulator')\n",
    "shots = 10000 #number of samples used for statistics\n",
    "\n",
    "#Probability density\n",
    "job1 = backend.run(transpile(circuit, backend), shots=shots)\n",
    "answer_prob = job1.result().get_counts(circuit)\n",
    "\n",
    "#Energy\n",
    "job2 = backend.run(transpile(circuit2, backend), shots=shots)\n",
    "answer_en = job2.result().get_counts(circuit2)\n",
    "\n",
    "end = time.time()\n",
    "elapsed_time = end - start\n",
    "print(\"Measurement is done...\")\n",
    "print(\"Elapsed time: \", elapsed_time)"
   ]
  },
  {
   "cell_type": "markdown",
   "id": "6fe24a82-f86b-43a8-977e-106bc5fd442f",
   "metadata": {},
   "source": [
    "# Simulation Results"
   ]
  },
  {
   "cell_type": "code",
   "execution_count": 10,
   "id": "5fb29f67-c1e8-4e7a-90c8-82963bd24038",
   "metadata": {},
   "outputs": [
    {
     "data": {
      "image/png": "[encoded data removed]",
      "text/plain": [
       "<Figure size 504x360 with 1 Axes>"
      ]
     },
     "execution_count": 10,
     "metadata": {},
     "output_type": "execute_result"
    }
   ],
   "source": [
    "def get_histogram_decimal(result, xinterval, qubit):\n",
    "    \"\"\"\n",
    "    Convert measurement result from qubit vs probability into position vs probability\n",
    "    Args:\n",
    "        result - dict: measurement result\n",
    "        xinterval - list: the list of position used to calculate initial wavefunction\n",
    "        qubit - int: number of qubit\n",
    "    Return:\n",
    "        dictionary of position:probability\n",
    "    \"\"\"\n",
    "\n",
    "    answer_dec = {}\n",
    "    for key, values in result.items():\n",
    "        ans_dec = int(key, 2)\n",
    "        answer_dec[ans_dec] = values\n",
    "        \n",
    "    posx = []\n",
    "    for i in range(0, 2**qubit):\n",
    "        if i in answer_dec.keys():\n",
    "            posx.append(answer_dec[i])\n",
    "            # ax[i] = new_dic[i]\n",
    "        else:\n",
    "            posx.append(0)\n",
    "        \n",
    "    new_dic = {}\n",
    "    interval = [round(j, 2) for j in xinterval]\n",
    "    for i in range(0, 2**qubit):\n",
    "        new_dic[interval[i]] = posx[i]\n",
    "\n",
    "    return new_dic\n",
    "\n",
    "#Plot histograms\n",
    "hist = get_histogram_decimal(answer_prob, x, qubit_num)\n",
    "\n",
    "#Save probability density histogram\n",
    "# title = \"Probability Density \\n iteration= {}, t= {} \".format(iteration, t)\n",
    "# plot_histogram(hist).savefig('probdens-q'+str(qubit_num)+'-i'+str(iteration), dpi=500)\n",
    "\n",
    "#Show probability density histograms\n",
    "plot_histogram(hist) #, figsize=(20,10))"
   ]
  },
  {
   "cell_type": "code",
   "execution_count": 11,
   "id": "4aab068c-c50c-4e3e-8945-728e85835298",
   "metadata": {},
   "outputs": [
    {
     "data": {
      "image/png": "[encoded data removed]",
      "text/plain": [
       "<Figure size 432x288 with 1 Axes>"
      ]
     },
     "metadata": {
      "needs_background": "light"
     },
     "output_type": "display_data"
    }
   ],
   "source": [
    "def calculates_energy(result, qubit, time):\n",
    "    \"\"\"\n",
    "    Export phase and calculates energy from measurement result\n",
    "    Args:\n",
    "        result - dict: measurement result\n",
    "        qubit - int: number of qubit\n",
    "        time - int: simulation time (depends on iteration and dt)\n",
    "    Return:\n",
    "        lists of energy and probability\n",
    "    \"\"\"\n",
    "    \n",
    "    answer_dec = {}\n",
    "    energy_estimated = {}\n",
    "    \n",
    "    for key, values in result.items():\n",
    "        ans_dec = int(key, 2)\n",
    "        answer_dec[ans_dec] = values\n",
    "    \n",
    "    for i in range(0, 2**qubit):\n",
    "        if i not in answer_dec.keys():\n",
    "            answer_dec[i] = 0\n",
    "    \n",
    "    for key, values in answer_dec.items():\n",
    "        theta = key/2**qubit\n",
    "        energy = 2*np.pi*theta / time\n",
    "        energy_estimated[energy] = values\n",
    "        \n",
    "    energy = sorted(energy_estimated)\n",
    "    probability = []\n",
    "    for val in energy:\n",
    "        for key in energy_estimated.keys():\n",
    "            if val == key:\n",
    "                prob = energy_estimated[key]/sum(energy_estimated.values())\n",
    "                probability.append(prob)\n",
    "                \n",
    "    return energy, probability\n",
    "        \n",
    "en, prob = calculates_energy(answer_en, qubit_num, t)    \n",
    "plt.plot(en, prob)\n",
    "plt.xlabel('Energy')\n",
    "plt.ylabel('Probabilities')\n",
    "title = \"Energy Probability \\n Iteration={}, t={}s\".format(iteration, t)\n",
    "plt.title(title)\n",
    "plt.grid()\n",
    "# plt.savefig('enprob-q'+str(qubit_num)+'-i'+str(iteration), dpi=500)\n",
    "plt.show()"
   ]
  },
  {
   "cell_type": "code",
   "execution_count": 12,
   "id": "7e577b95-8499-4111-aba0-b065b238a50d",
   "metadata": {},
   "outputs": [
    {
     "name": "stdout",
     "output_type": "stream",
     "text": [
      "Output saved...\n"
     ]
    }
   ],
   "source": [
    "def save_output(prob_dic, en, en_prob):\n",
    "    \"\"\"\n",
    "    Save the result of measuremens in csv file\n",
    "    Args:\n",
    "        prob_dic - dict: measurement of probability density\n",
    "        en - list: energy\n",
    "        en_prob - list: probability of energy\n",
    "    Return:\n",
    "        csv file\n",
    "    \"\"\"\n",
    "    \n",
    "    dataframe = pd.DataFrame(columns=['Position', 'Probability', 'Energy', 'Energy Probability'])\n",
    "    pos = list(prob_dic.keys())\n",
    "    prob = []\n",
    "    \n",
    "    for key in prob_dic.keys():\n",
    "        prob.append(prob_dic[key]/sum(prob_dic.values()))\n",
    "        \n",
    "    for i in range(len(prob)):\n",
    "        dataframe.loc[i] = pos[i], prob[i], en[i], en_prob[i]\n",
    "        \n",
    "    return dataframe\n",
    "\n",
    "filename = 'output-q{}-i{}'.format(qubit_num, iteration)\n",
    "output = save_output(hist, en, prob)\n",
    "# output.to_csv(filename, sep='\\t', header=False, index=False)\n",
    "print('Output saved...')"
   ]
  }
 ],
 "metadata": {
  "kernelspec": {
   "display_name": "Qiskit v0.35.0 (ipykernel)",
   "language": "python",
   "name": "python3"
  },
  "language_info": {
   "codemirror_mode": {
    "name": "ipython",
    "version": 3
   },
   "file_extension": ".py",
   "mimetype": "text/x-python",
   "name": "python",
   "nbconvert_exporter": "python",
   "pygments_lexer": "ipython3",
   "version": "3.8.13"
  },
  "widgets": {
   "application/vnd.jupyter.widget-state+json": {
    "state": {
     "0d04b7d12b12453094ad5251108495f8": {
      "model_module": "@jupyter-widgets/controls",
      "model_module_version": "1.5.0",
      "model_name": "HTMLModel",
      "state": {
       "layout": "IPY_MODEL_3310d90b99234cc68b2adf51eb84cda0",
       "style": "IPY_MODEL_c3857ac9ba054dc097dcfeaa8731dd42",
       "value": "<p style='font-family: IBM Plex Sans, Arial, Helvetica, sans-serif; font-size: 20px; font-weight: medium;'>Circuit Properties</p>"
      }
     },
     "1bee210faa614720b861bbc154488b98": {
      "model_module": "@jupyter-widgets/controls",
      "model_module_version": "1.5.0",
      "model_name": "HTMLModel",
      "state": {
       "layout": "IPY_MODEL_eab150909206417eaea51df9ae6e40c4",
       "style": "IPY_MODEL_702ee4af9fc44ab99d6ad58f21866c57",
       "value": "<h5>Backend</h5>"
      }
     },
     "30e6749d17ee4a558be1e54102727c97": {
      "model_module": "@jupyter-widgets/controls",
      "model_module_version": "1.5.0",
      "model_name": "HTMLModel",
      "state": {
       "layout": "IPY_MODEL_3336fe1f72f74d279cec54da68aa1987",
       "style": "IPY_MODEL_62984a295e9d47a8a5bbc0fc87862f0f",
       "value": "<h5>Job ID</h5>"
      }
     },
     "3310d90b99234cc68b2adf51eb84cda0": {
      "model_module": "@jupyter-widgets/base",
      "model_module_version": "1.2.0",
      "model_name": "LayoutModel",
      "state": {
       "margin": "0px 0px 10px 0px"
      }
     },
     "3336fe1f72f74d279cec54da68aa1987": {
      "model_module": "@jupyter-widgets/base",
      "model_module_version": "1.2.0",
      "model_name": "LayoutModel",
      "state": {
       "width": "190px"
      }
     },
     "3d2a2509cc294af8b40a64456f5caf7b": {
      "model_module": "@jupyter-widgets/controls",
      "model_module_version": "1.5.0",
      "model_name": "HBoxModel",
      "state": {
       "children": [
        "IPY_MODEL_30e6749d17ee4a558be1e54102727c97",
        "IPY_MODEL_1bee210faa614720b861bbc154488b98",
        "IPY_MODEL_5162ad4a14b54f3b9fa04153588ad1f8",
        "IPY_MODEL_a99714a6cc094f5da0de93ebb9bfc509",
        "IPY_MODEL_88630a1cfb74448fbe589df624986c52"
       ],
       "layout": "IPY_MODEL_feaf19dfe29d48e9ac7ecafc3b58401c"
      }
     },
     "5162ad4a14b54f3b9fa04153588ad1f8": {
      "model_module": "@jupyter-widgets/controls",
      "model_module_version": "1.5.0",
      "model_name": "HTMLModel",
      "state": {
       "layout": "IPY_MODEL_85ad090b14bb40bab351190a4f351e29",
       "style": "IPY_MODEL_e76781397ebb4d4c9820453a0797f469",
       "value": "<h5>Status</h5>"
      }
     },
     "5fd8626f0c6c4835a9c0b9589996ca71": {
      "model_module": "@jupyter-widgets/base",
      "model_module_version": "1.2.0",
      "model_name": "LayoutModel",
      "state": {
       "grid_area": "right",
       "padding": "0px 0px 0px 0px",
       "width": "70px"
      }
     },
     "62984a295e9d47a8a5bbc0fc87862f0f": {
      "model_module": "@jupyter-widgets/controls",
      "model_module_version": "1.5.0",
      "model_name": "DescriptionStyleModel",
      "state": {
       "description_width": ""
      }
     },
     "702ee4af9fc44ab99d6ad58f21866c57": {
      "model_module": "@jupyter-widgets/controls",
      "model_module_version": "1.5.0",
      "model_name": "DescriptionStyleModel",
      "state": {
       "description_width": ""
      }
     },
     "70ef666d5fec45cab1bc710f4e5ad81a": {
      "model_module": "@jupyter-widgets/base",
      "model_module_version": "1.2.0",
      "model_name": "LayoutModel",
      "state": {}
     },
     "79d6b806c6894fe4ae0f2bfa3b7c7741": {
      "model_module": "@jupyter-widgets/controls",
      "model_module_version": "1.5.0",
      "model_name": "GridBoxModel",
      "state": {
       "children": [
        "IPY_MODEL_c3dfc93205e2400082676cc5600ed172"
       ],
       "layout": "IPY_MODEL_a54cfc9a8ca643e4b6f4d383181f9325"
      }
     },
     "85ad090b14bb40bab351190a4f351e29": {
      "model_module": "@jupyter-widgets/base",
      "model_module_version": "1.2.0",
      "model_name": "LayoutModel",
      "state": {
       "width": "95px"
      }
     },
     "88630a1cfb74448fbe589df624986c52": {
      "model_module": "@jupyter-widgets/controls",
      "model_module_version": "1.5.0",
      "model_name": "HTMLModel",
      "state": {
       "layout": "IPY_MODEL_70ef666d5fec45cab1bc710f4e5ad81a",
       "style": "IPY_MODEL_f8571fabccdf47f7a2fcddaa4c4c4378",
       "value": "<h5>Message</h5>"
      }
     },
     "9bed9daf8b8b40038e3fa20077eb59bf": {
      "model_module": "@jupyter-widgets/base",
      "model_module_version": "1.2.0",
      "model_name": "LayoutModel",
      "state": {
       "width": "70px"
      }
     },
     "a54cfc9a8ca643e4b6f4d383181f9325": {
      "model_module": "@jupyter-widgets/base",
      "model_module_version": "1.2.0",
      "model_name": "LayoutModel",
      "state": {
       "grid_template_areas": "\n                                       \". . . . right \"\n                                        ",
       "grid_template_columns": "20% 20% 20% 20% 20%",
       "width": "100%"
      }
     },
     "a99714a6cc094f5da0de93ebb9bfc509": {
      "model_module": "@jupyter-widgets/controls",
      "model_module_version": "1.5.0",
      "model_name": "HTMLModel",
      "state": {
       "layout": "IPY_MODEL_9bed9daf8b8b40038e3fa20077eb59bf",
       "style": "IPY_MODEL_d7178f563ab547018fb3f7615c01bdd0",
       "value": "<h5>Queue</h5>"
      }
     },
     "c3857ac9ba054dc097dcfeaa8731dd42": {
      "model_module": "@jupyter-widgets/controls",
      "model_module_version": "1.5.0",
      "model_name": "DescriptionStyleModel",
      "state": {
       "description_width": ""
      }
     },
     "c3dfc93205e2400082676cc5600ed172": {
      "model_module": "@jupyter-widgets/controls",
      "model_module_version": "1.5.0",
      "model_name": "ButtonModel",
      "state": {
       "button_style": "primary",
       "description": "Clear",
       "layout": "IPY_MODEL_5fd8626f0c6c4835a9c0b9589996ca71",
       "style": "IPY_MODEL_fb1cce19884743a0846c86f787b4fb3e"
      }
     },
     "d7178f563ab547018fb3f7615c01bdd0": {
      "model_module": "@jupyter-widgets/controls",
      "model_module_version": "1.5.0",
      "model_name": "DescriptionStyleModel",
      "state": {
       "description_width": ""
      }
     },
     "e76781397ebb4d4c9820453a0797f469": {
      "model_module": "@jupyter-widgets/controls",
      "model_module_version": "1.5.0",
      "model_name": "DescriptionStyleModel",
      "state": {
       "description_width": ""
      }
     },
     "eab150909206417eaea51df9ae6e40c4": {
      "model_module": "@jupyter-widgets/base",
      "model_module_version": "1.2.0",
      "model_name": "LayoutModel",
      "state": {
       "width": "145px"
      }
     },
     "f8571fabccdf47f7a2fcddaa4c4c4378": {
      "model_module": "@jupyter-widgets/controls",
      "model_module_version": "1.5.0",
      "model_name": "DescriptionStyleModel",
      "state": {
       "description_width": ""
      }
     },
     "fb1cce19884743a0846c86f787b4fb3e": {
      "model_module": "@jupyter-widgets/controls",
      "model_module_version": "1.5.0",
      "model_name": "ButtonStyleModel",
      "state": {}
     },
     "feaf19dfe29d48e9ac7ecafc3b58401c": {
      "model_module": "@jupyter-widgets/base",
      "model_module_version": "1.2.0",
      "model_name": "LayoutModel",
      "state": {
       "margin": "0px 0px 0px 37px",
       "width": "600px"
      }
     }
    },
    "version_major": 2,
    "version_minor": 0
   }
  }
 },
 "nbformat": 4,
 "nbformat_minor": 5
}
